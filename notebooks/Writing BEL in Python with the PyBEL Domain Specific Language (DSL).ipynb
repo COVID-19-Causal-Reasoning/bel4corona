{
 "cells": [
  {
   "cell_type": "code",
   "execution_count": 22,
   "metadata": {},
   "outputs": [],
   "source": [
    "import pybel\n",
    "import pybel.dsl\n",
    "from pybel.io.jupyter import to_jupyter"
   ]
  },
  {
   "cell_type": "code",
   "execution_count": 19,
   "metadata": {},
   "outputs": [
    {
     "data": {
      "text/plain": [
       "<BEL p(hgnc:8614 ! PAWR)>"
      ]
     },
     "execution_count": 19,
     "metadata": {},
     "output_type": "execute_result"
    }
   ],
   "source": [
    "pawr_protein = pybel.dsl.Protein(namespace='hgnc', identifier='8614', name='PAWR')\n",
    "pawr_protein"
   ]
  },
  {
   "cell_type": "code",
   "execution_count": 20,
   "metadata": {},
   "outputs": [
    {
     "data": {
      "text/plain": [
       "<BEL r(hgnc:8614 ! PAWR)>"
      ]
     },
     "execution_count": 20,
     "metadata": {},
     "output_type": "execute_result"
    }
   ],
   "source": [
    "pawr_rna = pybel.dsl.Rna(namespace='hgnc', identifier='8614', name='PAWR')\n",
    "pawr_rna"
   ]
  },
  {
   "cell_type": "code",
   "execution_count": 21,
   "metadata": {},
   "outputs": [
    {
     "data": {
      "text/plain": [
       "<BEL g(hgnc:8614 ! PAWR)>"
      ]
     },
     "execution_count": 21,
     "metadata": {},
     "output_type": "execute_result"
    }
   ],
   "source": [
    "pawr_gene = pybel.dsl.Gene(namespace='hgnc', identifier='8614', name='PAWR')\n",
    "pawr_gene"
   ]
  },
  {
   "cell_type": "code",
   "execution_count": 24,
   "metadata": {},
   "outputs": [
    {
     "data": {
      "text/plain": [
       "<BEL bp(go:0006915 ! \"apoptotic process\")>"
      ]
     },
     "execution_count": 24,
     "metadata": {},
     "output_type": "execute_result"
    }
   ],
   "source": [
    "apoptosis = pybel.dsl.BiologicalProcess(namespace='go', identifier='0006915', name='apoptotic process')\n",
    "apoptosis"
   ]
  },
  {
   "cell_type": "code",
   "execution_count": 7,
   "metadata": {},
   "outputs": [
    {
     "data": {
      "text/plain": [
       "<pybel.struct.graph.BELGraph at 0x130ee71c0>"
      ]
     },
     "execution_count": 7,
     "metadata": {},
     "output_type": "execute_result"
    }
   ],
   "source": [
    "graph = pybel.BELGraph()\n",
    "graph"
   ]
  },
  {
   "cell_type": "code",
   "execution_count": null,
   "metadata": {},
   "outputs": [],
   "source": [
    "graph.add_increases(\n",
    "    pawr_protein,\n",
    "    apoptosis,\n",
    "    citation='',\n",
    "    evidence='',\n",
    ")"
   ]
  },
  {
   "cell_type": "code",
   "execution_count": null,
   "metadata": {},
   "outputs": [],
   "source": [
    "graph.add_increases(\n",
    "    pybel.dsl.Protein(namespace='hgnc', identifier='8614', name='PAWR'),\n",
    "    pybel.dsl.Protein(namespace='hgnc', identifier='9588', name='PTEN'),\n",
    "    citation='',\n",
    "    evidence='',\n",
    ")"
   ]
  },
  {
   "cell_type": "code",
   "execution_count": 16,
   "metadata": {},
   "outputs": [
    {
     "data": {
      "text/plain": [
       "'fca201a32dbefcef974d429bcf08ddb1'"
      ]
     },
     "execution_count": 16,
     "metadata": {},
     "output_type": "execute_result"
    }
   ],
   "source": [
    "graph.add_increases(\n",
    "    pybel.dsl.Protein(namespace='hgnc', identifier='9588', name='PTEN'),\n",
    "    pybel.dsl.BiologicalProcess(namespace='go', identifier='0006915', name='apoptotic process'),\n",
    "    citation='',\n",
    "    evidence='',\n",
    ")"
   ]
  },
  {
   "cell_type": "code",
   "execution_count": 23,
   "metadata": {},
   "outputs": [
    {
     "data": {
      "application/javascript": [
       "function init_d3_force(d3, graph, chart, width, height, function_colors) {\n",
       "    var focus_node = null;\n",
       "    var highlight_node = null;\n",
       "\n",
       "    // Highlight color variables\n",
       "\n",
       "    // Highlight color of the node boundering\n",
       "    const highlight_node_boundering = \"#4EB2D4\";\n",
       "\n",
       "    // Highlight color of the edge\n",
       "    const highlighted_link_color = \"#4EB2D4\";\n",
       "\n",
       "    // Text highlight color\n",
       "    const highlight_text = \"#4EB2D4\";\n",
       "\n",
       "    // Size when zooming scale\n",
       "    var size = d3.scalePow().exponent(1)\n",
       "        .domain([1, 100])\n",
       "        .range([8, 24]);\n",
       "\n",
       "    // Simulation parameters\n",
       "    const linkDistance = 100;\n",
       "    const fCharge = -1000;\n",
       "    const linkStrength = 0.7;\n",
       "    const collideStrength = 1;\n",
       "\n",
       "    // Simulation defined with variables\n",
       "    var simulation = d3.forceSimulation()\n",
       "        .force(\"link\", d3.forceLink()\n",
       "            .distance(linkDistance)\n",
       "            .strength(linkStrength)\n",
       "        )\n",
       "        .force(\"collide\", d3.forceCollide()\n",
       "            .radius(function (d) {\n",
       "                return d.r + 10\n",
       "            })\n",
       "            .strength(collideStrength)\n",
       "        )\n",
       "        .force(\"charge\", d3.forceManyBody()\n",
       "            .strength(fCharge)\n",
       "        )\n",
       "        .force(\"center\", d3.forceCenter(width / 2, height / 2))\n",
       "        .force(\"y\", d3.forceY(0))\n",
       "        .force(\"x\", d3.forceX(0));\n",
       "\n",
       "    // Pin down functionality\n",
       "    var node_drag = d3.drag()\n",
       "        .on(\"start\", dragstarted)\n",
       "        .on(\"drag\", dragged)\n",
       "        .on(\"end\", dragended);\n",
       "\n",
       "    function dragstarted(d) {\n",
       "        if (!d3.event.active) simulation.alphaTarget(0.3).restart();\n",
       "        d.fx = d.x;\n",
       "        d.fy = d.y;\n",
       "    }\n",
       "\n",
       "    function dragged(d) {\n",
       "        d.fx = d3.event.x;\n",
       "        d.fy = d3.event.y;\n",
       "    }\n",
       "\n",
       "    function dragended(d) {\n",
       "        if (!d3.event.active) simulation.alphaTarget(0);\n",
       "    }\n",
       "\n",
       "    function releasenode(d) {\n",
       "        d.fx = null;\n",
       "        d.fy = null;\n",
       "    }\n",
       "\n",
       "    //END Pin down functionality\n",
       "\n",
       "\n",
       "    /**\n",
       "     * Gets the best name for a node object\n",
       "     * @param {object} d object\n",
       "     * @returns {str} canonical name of the node\n",
       "     */\n",
       "    function getCanonicalName(d) {\n",
       "        if (d.name && !(d.variants || d.reactants || d.products || d.members)) {\n",
       "            return d.name\n",
       "        } else if (d.bel) {\n",
       "            return d.bel\n",
       "        } else {\n",
       "            console.log('Undefined node: ' + d);\n",
       "            return 'UNDEFINED'\n",
       "        }\n",
       "    }\n",
       "\n",
       "    const color_circunferencia = \"black\";\n",
       "    const default_link_color = \"#AAAAAA\";\n",
       "    const nominal_base_node_size = 8;\n",
       "\n",
       "    // Normal and highlighted stroke of the links (double the width of the link when highlighted)\n",
       "    const nominal_stroke = 1.5;\n",
       "\n",
       "    // Zoom variables\n",
       "    const min_zoom = 0.1;\n",
       "    const max_zoom = 10;\n",
       "\n",
       "    var svg = d3.select(chart).append(\"svg\")\n",
       "        .attr(\"width\", width)\n",
       "        .attr(\"height\", height);\n",
       "\n",
       "    // // Create definition for arrowhead.\n",
       "    svg.append(\"defs\").append(\"marker\")\n",
       "        .attr(\"id\", \"arrowhead\")\n",
       "        .attr(\"viewBox\", \"0 -5 10 10\")\n",
       "        .attr(\"refX\", 20)\n",
       "        .attr(\"refY\", 0)\n",
       "        .attr(\"markerUnits\", \"strokeWidth\")\n",
       "        .attr(\"markerWidth\", 6)\n",
       "        .attr(\"markerHeight\", 6)\n",
       "        .attr(\"orient\", \"auto\")\n",
       "        .append(\"path\")\n",
       "        .attr(\"d\", \"M0,-5L10,0L0,5\");\n",
       "\n",
       "    // // Create definition for stub.\n",
       "    svg.append(\"defs\").append(\"marker\")\n",
       "        .attr(\"id\", \"stub\")\n",
       "        .attr(\"viewBox\", \"-1 -5 2 10\")\n",
       "        .attr(\"refX\", 15)\n",
       "        .attr(\"refY\", 0)\n",
       "        .attr(\"markerUnits\", \"strokeWidth\")\n",
       "        .attr(\"markerWidth\", 6)\n",
       "        .attr(\"markerHeight\", 6)\n",
       "        .attr(\"orient\", \"auto\")\n",
       "        .append(\"path\")\n",
       "        .attr(\"d\", \"M 0,0 m -1,-5 L 1,-5 L 1,5 L -1,5 Z\");\n",
       "\n",
       "    // Background\n",
       "    svg.append(\"rect\")\n",
       "        .attr(\"width\", \"100%\")\n",
       "        .attr(\"height\", \"100%\")\n",
       "        .attr(\"fill\", \"#ffffff\")\n",
       "        .style(\"pointer-events\", \"all\")\n",
       "        // Zoom + panning functionality\n",
       "        .call(d3.zoom()\n",
       "            .scaleExtent([min_zoom, max_zoom])\n",
       "            .on(\"zoom\", zoomed))\n",
       "        .on(\"dblclick.zoom\", null);\n",
       "\n",
       "\n",
       "    function zoomed() {\n",
       "        g.attr(\"transform\", d3.event.transform);\n",
       "    }\n",
       "\n",
       "    // g = svg object where the graph will be appended\n",
       "    var g = svg.append(\"g\");\n",
       "\n",
       "    var linkedByIndex = {};\n",
       "    graph.links.forEach(function (d) {\n",
       "        linkedByIndex[d.source + \",\" + d.target] = true;\n",
       "    });\n",
       "\n",
       "    function isConnected(a, b) {\n",
       "        return linkedByIndex[a.index + \",\" + b.index] || linkedByIndex[b.index + \",\" + a.index] || a.index == b.index;\n",
       "    }\n",
       "\n",
       "    function ticked() {\n",
       "        link.attr(\"x1\", function (d) {\n",
       "            return d.source.x;\n",
       "        })\n",
       "            .attr(\"y1\", function (d) {\n",
       "                return d.source.y;\n",
       "            })\n",
       "            .attr(\"x2\", function (d) {\n",
       "                return d.target.x;\n",
       "            })\n",
       "            .attr(\"y2\", function (d) {\n",
       "                return d.target.y;\n",
       "            });\n",
       "\n",
       "        node\n",
       "            .attr(\"transform\", function (d) {\n",
       "                return \"translate(\" + d.x + \", \" + d.y + \")\";\n",
       "            });\n",
       "    }\n",
       "\n",
       "\n",
       "    simulation\n",
       "        .nodes(graph.nodes)\n",
       "        .on(\"tick\", ticked);\n",
       "\n",
       "    simulation.force(\"link\")\n",
       "        .links(graph.links);\n",
       "\n",
       "    // Definition of links nodes text...\n",
       "\n",
       "    var link = g.selectAll(\".link\")\n",
       "        .data(graph.links)\n",
       "        .enter().append(\"line\")\n",
       "        .style(\"stroke-width\", nominal_stroke)\n",
       "        .style(\"stroke\", default_link_color)\n",
       "        .style(\"stroke-dasharray\", function (d) {\n",
       "            if (['decreases', 'directlyDecreases', 'increases', 'directlyIncreases', 'negativeCorrelation',\n",
       "                'positiveCorrelation'].indexOf(d.relation) >= 0) {\n",
       "                return \"none\"\n",
       "            } else {\n",
       "                return \"4, 4\"\n",
       "            }\n",
       "        })\n",
       "        .attr(\"marker-start\", function (d) {\n",
       "            if ('positiveCorrelation' == d.relation) {\n",
       "                return \"url(#arrowhead)\"\n",
       "            }\n",
       "            else if ('negativeCorrelation' == d.relation) {\n",
       "                return \"url(#stub)\"\n",
       "            }\n",
       "            else {\n",
       "                return \"\"\n",
       "            }\n",
       "        })\n",
       "        .attr(\"marker-end\", function (d) {\n",
       "            if (['increases', 'directlyIncreases', 'positiveCorrelation', 'isA', 'partOf'].indexOf(d.relation) >= 0) {\n",
       "                return \"url(#arrowhead)\"\n",
       "            } else if (['decreases', 'directlyDecreases', 'negativeCorrelation'].indexOf(d.relation) >= 0) {\n",
       "                return \"url(#stub)\"\n",
       "            } else {\n",
       "                return \"\"\n",
       "            }\n",
       "        });\n",
       "\n",
       "    var node = g.selectAll(\".nodes\")\n",
       "        .data(graph.nodes)\n",
       "        .enter().append(\"g\")\n",
       "        .attr(\"class\", \"node\")\n",
       "        // Next two lines -> Pin down functionality\n",
       "        .on('dblclick', releasenode)\n",
       "        .call(node_drag);\n",
       "\n",
       "    var circle = node.append(\"path\")\n",
       "        .attr(\"d\", d3.symbol()\n",
       "            .size(function (d) {\n",
       "                return Math.PI * Math.pow(size(d.size) || nominal_base_node_size, 2);\n",
       "            })\n",
       "        )\n",
       "        .attr(\"class\", function (d) {\n",
       "            return d.function\n",
       "        })\n",
       "        .style('fill', function (d) {\n",
       "            return function_colors[d.function]\n",
       "        })\n",
       "        .style(\"stroke-width\", nominal_stroke)\n",
       "        .style(\"stroke\", color_circunferencia);\n",
       "\n",
       "    var text = node.append(\"text\")\n",
       "        .attr(\"class\", \"node-name\")\n",
       "        // .attr(\"id\", nodehashes[d])\n",
       "        .attr(\"fill\", \"black\")\n",
       "        .attr(\"dx\", 12)\n",
       "        .attr(\"dy\", \".35em\")\n",
       "        .text(function (d) {\n",
       "            return getCanonicalName(d)\n",
       "        });\n",
       "\n",
       "    // Highlight on mouseenter and back to normal on mouseout\n",
       "    node.on(\"mouseenter\", function (d) {\n",
       "        set_highlight(d);\n",
       "    })\n",
       "        .on(\"mousedown\", function () {\n",
       "            d3.event.stopPropagation();\n",
       "        }).on(\"mouseout\", function () {\n",
       "        exit_highlight();\n",
       "    });\n",
       "\n",
       "    function exit_highlight() {\n",
       "        highlight_node = null;\n",
       "        if (focus_node === null) {\n",
       "            if (highlight_node_boundering != color_circunferencia) {\n",
       "                circle.style(\"stroke\", color_circunferencia);\n",
       "                text.style(\"fill\", \"black\");\n",
       "                link.style(\"stroke\", default_link_color);\n",
       "            }\n",
       "        }\n",
       "    }\n",
       "\n",
       "    function set_highlight(d) {\n",
       "        if (focus_node !== null) d = focus_node;\n",
       "        highlight_node = d;\n",
       "\n",
       "        if (highlight_node_boundering != color_circunferencia) {\n",
       "            circle.style(\"stroke\", function (o) {\n",
       "                return isConnected(d, o) ? highlight_node_boundering : color_circunferencia;\n",
       "            });\n",
       "            text.style(\"fill\", function (o) {\n",
       "                return isConnected(d, o) ? highlight_text : \"black\";\n",
       "            });\n",
       "            link.style(\"stroke\", function (o) {\n",
       "                return o.source.index == d.index || o.target.index == d.index ? highlighted_link_color : default_link_color;\n",
       "            });\n",
       "        }\n",
       "    }\n",
       "\n",
       "\n",
       "    // Freeze the graph when space is pressed\n",
       "    function freezeGraph() {\n",
       "        // Space button Triggers STOP\n",
       "        if (d3.event.keyCode == 32) {\n",
       "            simulation.stop();\n",
       "        }\n",
       "    }\n",
       "\n",
       "    // Call freezeGraph when a key is pressed, freezeGraph checks whether this key is \"Space\" that triggers the freeze\n",
       "    d3.select(window).on(\"keydown\", freezeGraph);\n",
       "}\n",
       "\n",
       "require.config({\n",
       "    paths: {\n",
       "        d3: '//cdnjs.cloudflare.com/ajax/libs/d3/4.5.0/d3.min'\n",
       "    }\n",
       "});\n",
       "\n",
       "var elementInnerHTML = \"<div id='dzvxbsgumrhjqyka'></div>\";\n",
       "\n",
       "element.append(elementInnerHTML);\n",
       "\n",
       "require(['d3'], function (d3) {\n",
       "    return init_d3_force(d3, {\"directed\": true, \"multigraph\": true, \"graph\": {\"pybel_version\": \"0.14.10-dev\", \"document_metadata\": {}, \"namespace_url\": {}, \"namespace_pattern\": {}, \"annotation_url\": {}, \"annotation_pattern\": {}, \"annotation_list\": {}}, \"nodes\": [{\"function\": \"BiologicalProcess\", \"concept\": {\"namespace\": \"go\", \"name\": \"my favorite apoptotic process\", \"identifier\": \"0006915\"}, \"id\": \"e3d40e284b14e9192b9ad4c8be522f1a\", \"bel\": \"bp(go:0006915 ! \\\"my favorite apoptotic process\\\")\"}, {\"function\": \"Protein\", \"concept\": {\"namespace\": \"hgnc\", \"name\": \"PAWR\", \"identifier\": \"8614\"}, \"id\": \"177a5f4a30c080529bec8c134d5c41ee\", \"bel\": \"p(hgnc:8614 ! PAWR)\"}, {\"function\": \"Protein\", \"concept\": {\"namespace\": \"hgnc\", \"name\": \"PTEN\", \"identifier\": \"9588\"}, \"id\": \"b62e809f9dda5e7940982d283ac79b36\", \"bel\": \"p(hgnc:9588 ! PTEN)\"}], \"links\": [{\"relation\": \"increases\", \"evidence\": \"\", \"citation\": {\"db\": \"PubMed\", \"db_id\": \"\"}, \"source\": 1, \"target\": 0, \"key\": \"bafa6c0905fcd46e14877a92af22493a\"}, {\"relation\": \"increases\", \"evidence\": \"\", \"citation\": {\"db\": \"PubMed\", \"db_id\": \"\"}, \"source\": 1, \"target\": 2, \"key\": \"ff919fb74467d410a0835d61b3893885\"}, {\"relation\": \"increases\", \"evidence\": \"\", \"citation\": {\"db\": \"PubMed\", \"db_id\": \"\"}, \"source\": 2, \"target\": 0, \"key\": \"fca201a32dbefcef974d429bcf08ddb1\"}]}, \"#dzvxbsgumrhjqyka\", 1000, 400, {'Protein': '#1F77B4', 'Pathology': '#FF7F0E', 'BiologicalProcess': '#2CA02C', 'miRNA': '#D62728', 'Complex': '#98DF8A', 'Composite': '#9467BD', 'Reaction': '#000000', 'Gene': '#FFBB78', 'Abundance': '#AEC7E8', 'RNA': '#FF9896'});\n",
       "});"
      ],
      "text/plain": [
       "<IPython.core.display.Javascript object>"
      ]
     },
     "execution_count": 23,
     "metadata": {},
     "output_type": "execute_result"
    }
   ],
   "source": [
    "pybel.io.jupyter.to_jupyter(graph, height=400)"
   ]
  }
 ],
 "metadata": {
  "kernelspec": {
   "display_name": "Python 3",
   "language": "python",
   "name": "python3"
  },
  "language_info": {
   "codemirror_mode": {
    "name": "ipython",
    "version": 3
   },
   "file_extension": ".py",
   "mimetype": "text/x-python",
   "name": "python",
   "nbconvert_exporter": "python",
   "pygments_lexer": "ipython3",
   "version": "3.8.2"
  }
 },
 "nbformat": 4,
 "nbformat_minor": 4
}
